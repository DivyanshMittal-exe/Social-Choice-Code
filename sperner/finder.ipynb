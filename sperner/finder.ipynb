{
 "cells": [
  {
   "cell_type": "code",
   "execution_count": 2,
   "metadata": {},
   "outputs": [],
   "source": [
    "from itertools import product\n",
    "\n",
    "options = [\n",
    "    [\"R\"],\n",
    "    [\"G\"],\n",
    "    [\"B\"],\n",
    "    [\"R\", \"B\"],\n",
    "    [\"R\", \"B\"],\n",
    "    [\"R\", \"B\"],\n",
    "    [\"G\", \"B\"],\n",
    "    [\"G\", \"B\"],\n",
    "    [\"G\", \"B\"],\n",
    "    [\"R\", \"G\"],\n",
    "    [\"R\", \"G\"],\n",
    "    [\"R\", \"G\"],\n",
    "    [\"R\", \"G\", \"B\"],\n",
    "    [\"R\", \"G\", \"B\"],\n",
    "    [\"R\", \"G\", \"B\"]\n",
    "]\n",
    "\n",
    "combinations = list(product(*options))\n"
   ]
  },
  {
   "cell_type": "code",
   "execution_count": 3,
   "metadata": {},
   "outputs": [
    {
     "data": {
      "text/plain": [
       "13824"
      ]
     },
     "execution_count": 3,
     "metadata": {},
     "output_type": "execute_result"
    }
   ],
   "source": [
    "len(combinations)\n"
   ]
  },
  {
   "cell_type": "code",
   "execution_count": 4,
   "metadata": {},
   "outputs": [],
   "source": [
    "def check_trianle(i,j,k,combination):\n",
    "    if combination[i] != combination[j] and combination[j] != combination[k] and combination[i]!=combination[k]:\n",
    "        return 1\n",
    "    else:\n",
    "        return 0"
   ]
  },
  {
   "cell_type": "code",
   "execution_count": 9,
   "metadata": {},
   "outputs": [
    {
     "name": "stdout",
     "output_type": "stream",
     "text": [
      "('R', 'G', 'B', 'R', 'R', 'R', 'B', 'B', 'G', 'R', 'R', 'G', 'B', 'G', 'R')\n",
      "('R', 'G', 'B', 'R', 'R', 'B', 'B', 'B', 'G', 'R', 'R', 'G', 'B', 'G', 'R')\n",
      "('R', 'G', 'B', 'R', 'B', 'R', 'B', 'B', 'G', 'R', 'R', 'G', 'B', 'G', 'R')\n",
      "('R', 'G', 'B', 'R', 'B', 'B', 'B', 'B', 'G', 'R', 'R', 'G', 'B', 'G', 'R')\n",
      "('R', 'G', 'B', 'B', 'R', 'R', 'B', 'G', 'G', 'R', 'R', 'R', 'G', 'R', 'B')\n",
      "('R', 'G', 'B', 'B', 'R', 'R', 'B', 'G', 'G', 'R', 'R', 'G', 'G', 'R', 'B')\n",
      "('R', 'G', 'B', 'B', 'R', 'R', 'B', 'G', 'G', 'R', 'G', 'R', 'G', 'R', 'B')\n",
      "('R', 'G', 'B', 'B', 'R', 'R', 'B', 'G', 'G', 'R', 'G', 'G', 'G', 'R', 'B')\n",
      "('R', 'G', 'B', 'B', 'R', 'R', 'B', 'G', 'G', 'G', 'R', 'R', 'G', 'R', 'B')\n",
      "('R', 'G', 'B', 'B', 'R', 'R', 'B', 'G', 'G', 'G', 'R', 'G', 'G', 'R', 'B')\n",
      "('R', 'G', 'B', 'B', 'R', 'R', 'B', 'G', 'G', 'G', 'G', 'R', 'G', 'R', 'B')\n",
      "('R', 'G', 'B', 'B', 'R', 'R', 'B', 'G', 'G', 'G', 'G', 'G', 'G', 'R', 'B')\n",
      "('R', 'G', 'B', 'B', 'R', 'R', 'B', 'B', 'G', 'R', 'R', 'G', 'B', 'G', 'R')\n",
      "('R', 'G', 'B', 'B', 'R', 'B', 'B', 'B', 'G', 'R', 'R', 'G', 'B', 'G', 'R')\n",
      "('R', 'G', 'B', 'B', 'B', 'R', 'G', 'G', 'G', 'R', 'G', 'G', 'R', 'B', 'G')\n",
      "('R', 'G', 'B', 'B', 'B', 'R', 'G', 'G', 'B', 'R', 'G', 'G', 'R', 'B', 'G')\n",
      "('R', 'G', 'B', 'B', 'B', 'R', 'G', 'B', 'G', 'R', 'G', 'G', 'R', 'B', 'G')\n",
      "('R', 'G', 'B', 'B', 'B', 'R', 'G', 'B', 'B', 'R', 'G', 'G', 'R', 'B', 'G')\n",
      "('R', 'G', 'B', 'B', 'B', 'R', 'B', 'G', 'G', 'R', 'G', 'G', 'R', 'B', 'G')\n",
      "('R', 'G', 'B', 'B', 'B', 'R', 'B', 'G', 'B', 'R', 'G', 'G', 'R', 'B', 'G')\n",
      "('R', 'G', 'B', 'B', 'B', 'R', 'B', 'B', 'G', 'R', 'R', 'G', 'B', 'G', 'R')\n",
      "('R', 'G', 'B', 'B', 'B', 'R', 'B', 'B', 'G', 'R', 'G', 'G', 'R', 'B', 'G')\n",
      "('R', 'G', 'B', 'B', 'B', 'R', 'B', 'B', 'B', 'R', 'G', 'G', 'R', 'B', 'G')\n",
      "('R', 'G', 'B', 'B', 'B', 'B', 'B', 'B', 'G', 'R', 'R', 'G', 'B', 'G', 'R')\n"
     ]
    },
    {
     "data": {
      "text/plain": [
       "24"
      ]
     },
     "execution_count": 9,
     "metadata": {},
     "output_type": "execute_result"
    }
   ],
   "source": [
    "max_val = -1\n",
    "count = 0\n",
    "for combination in combinations:\n",
    "    sum = 0\n",
    "    sum += check_trianle(0,11,3,combination)\n",
    "    sum += check_trianle(11,10,12,combination)\n",
    "    sum += check_trianle(12,11,3,combination)\n",
    "    sum += check_trianle(4,12,3,combination)\n",
    "    sum += check_trianle(10,9,13,combination)\n",
    "    sum += check_trianle(10,12,13,combination)\n",
    "    \n",
    "    sum += check_trianle(12,13,14,combination)\n",
    "    sum += check_trianle(12,14,4,combination)\n",
    "    sum += check_trianle(4,14,5,combination)\n",
    "    sum += check_trianle(9,1,6,combination)\n",
    "    sum += check_trianle(9,6,13,combination)\n",
    "    sum += check_trianle(13,6,7,combination)\n",
    "    \n",
    "    sum += check_trianle(13,7,14,combination)\n",
    "    sum += check_trianle(7,8,14,combination)\n",
    "    sum += check_trianle(5,8,14,combination)\n",
    "    sum += check_trianle(5,8,2,combination)\n",
    "   \n",
    "    if sum > max_val:\n",
    "         max_val = sum\n",
    "         max_combination = combination\n",
    "        #  print(max_val)\n",
    "    if sum == 9:\n",
    "        print(combination)\n",
    "        count += 1\n",
    "count"
   ]
  },
  {
   "cell_type": "code",
   "execution_count": 6,
   "metadata": {},
   "outputs": [
    {
     "data": {
      "text/plain": [
       "('R', 'G', 'B', 'R', 'R', 'R', 'B', 'B', 'G', 'R', 'R', 'G', 'B', 'G', 'R')"
      ]
     },
     "execution_count": 6,
     "metadata": {},
     "output_type": "execute_result"
    }
   ],
   "source": [
    "max_combination"
   ]
  }
 ],
 "metadata": {
  "kernelspec": {
   "display_name": "Python 3",
   "language": "python",
   "name": "python3"
  },
  "language_info": {
   "codemirror_mode": {
    "name": "ipython",
    "version": 3
   },
   "file_extension": ".py",
   "mimetype": "text/x-python",
   "name": "python",
   "nbconvert_exporter": "python",
   "pygments_lexer": "ipython3",
   "version": "3.11.5"
  },
  "orig_nbformat": 4
 },
 "nbformat": 4,
 "nbformat_minor": 2
}
