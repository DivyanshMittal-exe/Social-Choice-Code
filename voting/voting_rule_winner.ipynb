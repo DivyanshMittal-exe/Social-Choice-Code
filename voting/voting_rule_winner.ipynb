{
 "cells": [
  {
   "cell_type": "code",
   "execution_count": 3,
   "metadata": {},
   "outputs": [],
   "source": [
    "from itertools import combinations\n",
    "\n",
    "# Define the rankings and number of voters for each candidate\n",
    "rankings = [\n",
    "    ['c', 'd', 'b', 'a', 'e'],\n",
    "    ['c', 'e', 'b', 'd', 'a'],\n",
    "    ['d', 'e', 'c', 'b', 'a'],\n",
    "    ['e', 'c', 'b', 'd', 'a'],\n",
    "    ['b', 'd', 'c', 'e', 'a'],\n",
    "    ['a', 'b', 'c', 'd', 'e']\n",
    "]\n",
    "\n",
    "candidates = ['a', 'b', 'c', 'd', 'e']\n",
    "\n",
    "num_voters = [3, 8, 18, 22, 16, 33]\n"
   ]
  },
  {
   "cell_type": "markdown",
   "metadata": {},
   "source": [
    "# Plurality"
   ]
  },
  {
   "cell_type": "code",
   "execution_count": 5,
   "metadata": {},
   "outputs": [
    {
     "name": "stdout",
     "output_type": "stream",
     "text": [
      "{'a': 33, 'b': 16, 'c': 11, 'd': 18, 'e': 22}\n"
     ]
    }
   ],
   "source": [
    "pluralities = {candidate: 0 for candidate in candidates}\n",
    "for iter, ranking in enumerate(rankings):\n",
    "    pluralities[ranking[0]] += num_voters[iter]\n",
    "\n",
    "print(pluralities)"
   ]
  },
  {
   "cell_type": "markdown",
   "metadata": {},
   "source": [
    "# Borda"
   ]
  },
  {
   "cell_type": "code",
   "execution_count": 6,
   "metadata": {},
   "outputs": [
    {
     "name": "stdout",
     "output_type": "stream",
     "text": [
      "{'a': 235, 'b': 347, 'c': 344, 'd': 292, 'e': 282}\n"
     ]
    }
   ],
   "source": [
    "borda_scores = {candidate: 0 for candidate in candidates}\n",
    "\n",
    "for iter, ranking in enumerate(rankings):\n",
    "    for score, candidate in enumerate(ranking):\n",
    "        borda_scores[candidate] += (len(ranking) - score) * num_voters[iter]\n",
    "\n",
    "print(borda_scores)\n",
    "        "
   ]
  },
  {
   "cell_type": "markdown",
   "metadata": {},
   "source": [
    "# Plurality with Run-Off"
   ]
  },
  {
   "cell_type": "code",
   "execution_count": 10,
   "metadata": {},
   "outputs": [
    {
     "name": "stdout",
     "output_type": "stream",
     "text": [
      "{'a': 33, 'b': 16, 'c': 11, 'd': 18, 'e': 22}\n",
      "{'a': 36, 'b': 0, 'c': 0, 'd': 0, 'e': 64}\n"
     ]
    }
   ],
   "source": [
    "pluralities = {candidate: 0 for candidate in candidates}\n",
    "for iter, ranking in enumerate(rankings):\n",
    "    pluralities[ranking[0]] += num_voters[iter]\n",
    "\n",
    "print(pluralities)\n",
    "\n",
    "selected_candidates = ['a', 'e']\n",
    "\n",
    "rankings_for_runoff = [[candidate for candidate in ranking if candidate in selected_candidates] for ranking in rankings]\n",
    "rankings_for_runoff\n",
    "\n",
    "pluralities_after_runoff = {candidate: 0 for candidate in candidates}\n",
    "for iter, ranking in enumerate(rankings_for_runoff):\n",
    "    pluralities_after_runoff[ranking[0]] += num_voters[iter]\n",
    "\n",
    "print(pluralities_after_runoff)"
   ]
  },
  {
   "cell_type": "markdown",
   "metadata": {},
   "source": [
    "# STV"
   ]
  },
  {
   "cell_type": "code",
   "execution_count": 29,
   "metadata": {},
   "outputs": [
    {
     "name": "stdout",
     "output_type": "stream",
     "text": [
      "\\item c: 11, d: 18, b: 16, a: 33, e: 22, \n",
      "\\item d: 21, b: 16, a: 33, e: 30, \n",
      "\\item d: 37, a: 33, e: 30, \n",
      "\\item d: 67, a: 33, \n",
      "\\item d: 100, \n"
     ]
    }
   ],
   "source": [
    "rankings_stv = rankings.copy()\n",
    "\n",
    "\n",
    "while True:\n",
    "    candidates = rankings_stv[0]\n",
    "    pluralities_for_stv = {candidate: 0 for candidate in candidates}\n",
    "    \n",
    "    for iter, ranking in enumerate(rankings_stv):\n",
    "        pluralities_for_stv[ranking[0]] += num_voters[iter]\n",
    "        \n",
    "    # print(pluralities_for_stv)\n",
    "    print('\\\\item ', end='')\n",
    "    for key, value in pluralities_for_stv.items():\n",
    "        print(f'{key}: {value}, ', end='')\n",
    "    \n",
    "    print()\n",
    "    # print(len(pluralities_for_stv))\n",
    "    \n",
    "    if len(pluralities_for_stv) > 1:\n",
    "        min_plurality = min(pluralities_for_stv.values())\n",
    "        candidates_left = rankings_stv[0]\n",
    "        for candidate_to_rem in candidates_left:\n",
    "            if pluralities_for_stv[candidate_to_rem] == min_plurality:\n",
    "                rankings_stv = [[candidate for candidate in ranking if candidate != candidate_to_rem] for ranking in rankings_stv]\n",
    "                break\n",
    "        \n",
    "    else:\n",
    "        break\n",
    "    \n",
    "    # print(rankings_stv)\n",
    "    # print(pluralities_for_stv)\n",
    "    # break\n",
    "    \n",
    "    \n",
    "    "
   ]
  },
  {
   "cell_type": "code",
   "execution_count": 4,
   "metadata": {},
   "outputs": [
    {
     "name": "stdout",
     "output_type": "stream",
     "text": [
      "a: 0\n",
      "b: 3\n",
      "c: 4\n",
      "d: 2\n",
      "e: 1\n"
     ]
    }
   ],
   "source": [
    "# Initialize Copeland scores for each candidate to 0\n",
    "copeland_scores = {candidate: 0 for candidate in candidates}\n",
    "\n",
    "# Calculate the Copeland score for each pair of candidates\n",
    "for i, j in combinations(range(len(candidates)), 2):\n",
    "    candidate_i, candidate_j = candidates[i], candidates[j]\n",
    "    votes_for_i, votes_for_j = 0, 0\n",
    "    for k in range(len(rankings)):\n",
    "        preference_i = rankings[k].index(candidate_i)\n",
    "        preference_j = rankings[k].index(candidate_j)\n",
    "        if preference_i < preference_j:\n",
    "            votes_for_i += num_voters[k]\n",
    "        elif preference_i > preference_j:\n",
    "            votes_for_j += num_voters[k]\n",
    "        \n",
    "    if votes_for_i > votes_for_j:\n",
    "        copeland_scores[candidate_i] += 1\n",
    "    elif votes_for_i < votes_for_j:\n",
    "        copeland_scores[candidate_j] += 1\n",
    "    else:\n",
    "        copeland_scores[candidate_i] += 0.5\n",
    "        copeland_scores[candidate_j] += 0.5\n",
    "\n",
    "# Print the Copeland scores for each candidate\n",
    "for candidate, score in copeland_scores.items():\n",
    "    print(f\"{candidate}: {score}\")"
   ]
  },
  {
   "cell_type": "code",
   "execution_count": null,
   "metadata": {},
   "outputs": [],
   "source": []
  }
 ],
 "metadata": {
  "kernelspec": {
   "display_name": "Python 3",
   "language": "python",
   "name": "python3"
  },
  "language_info": {
   "codemirror_mode": {
    "name": "ipython",
    "version": 3
   },
   "file_extension": ".py",
   "mimetype": "text/x-python",
   "name": "python",
   "nbconvert_exporter": "python",
   "pygments_lexer": "ipython3",
   "version": "3.10.12"
  }
 },
 "nbformat": 4,
 "nbformat_minor": 2
}
